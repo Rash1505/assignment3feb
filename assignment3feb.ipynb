{
 "cells": [
  {
   "cell_type": "code",
   "execution_count": 1,
   "id": "d3f10e17-8c0f-4ec0-ba09-61fcb58e10d5",
   "metadata": {},
   "outputs": [
    {
     "ename": "SyntaxError",
     "evalue": "invalid syntax (1019966235.py, line 1)",
     "output_type": "error",
     "traceback": [
      "\u001b[0;36m  Cell \u001b[0;32mIn[1], line 1\u001b[0;36m\u001b[0m\n\u001b[0;31m    Q1. Which keyword is used to create a function? Create a function to return a list\u001b[0m\n\u001b[0m              ^\u001b[0m\n\u001b[0;31mSyntaxError\u001b[0m\u001b[0;31m:\u001b[0m invalid syntax\n"
     ]
    }
   ],
   "source": [
    "Q1. Which keyword is used to create a function? Create a function to return a list \n",
    "   odd numbers in the range of 1 to 25.\n",
    "\n",
    "    'def' keyword is used to creat a function"
   ]
  },
  {
   "cell_type": "code",
   "execution_count": null,
   "id": "fdc7eeb4-9bbb-49a4-b91d-05904c9efedc",
   "metadata": {},
   "outputs": [],
   "source": [
    "l=list(range(1,26))"
   ]
  },
  {
   "cell_type": "code",
   "execution_count": null,
   "id": "74a50759-26f3-4e8e-a501-9b810bb5311a",
   "metadata": {},
   "outputs": [],
   "source": [
    "def test(l):\n",
    "    l1=[]\n",
    "    for i in l:\n",
    "        if i%2!=0:\n",
    "            l1.append(i)\n",
    "    return l1\n",
    "        \n",
    "    \n",
    "    "
   ]
  },
  {
   "cell_type": "code",
   "execution_count": null,
   "id": "197719c0-4d82-4046-a4fb-b5f7f38a69c7",
   "metadata": {},
   "outputs": [],
   "source": [
    "test(l)"
   ]
  },
  {
   "cell_type": "code",
   "execution_count": 2,
   "id": "63cc662e-50ab-4e18-a298-bc8692a4e03b",
   "metadata": {},
   "outputs": [
    {
     "ename": "SyntaxError",
     "evalue": "invalid syntax (2254648082.py, line 1)",
     "output_type": "error",
     "traceback": [
      "\u001b[0;36m  Cell \u001b[0;32mIn[2], line 1\u001b[0;36m\u001b[0m\n\u001b[0;31m    Q2. why *args and **kwargs is used in some function? create a function each for\u001b[0m\n\u001b[0m                      ^\u001b[0m\n\u001b[0;31mSyntaxError\u001b[0m\u001b[0;31m:\u001b[0m invalid syntax\n"
     ]
    }
   ],
   "source": [
    "Q2. why *args and **kwargs is used in some function? create a function each for\n",
    "   *args and **kwargs to demostrate their use.\n",
    "\n",
    "when we are unsure about the number of arguments to pass in the function, we used *args and **kwargs."
   ]
  },
  {
   "cell_type": "code",
   "execution_count": null,
   "id": "0b7ff00c-216d-4eb5-9665-04fd7f4b74fa",
   "metadata": {},
   "outputs": [],
   "source": [
    "#example of args \n",
    "\n",
    "#args\n",
    "def test(*args):\n",
    "    return args   "
   ]
  },
  {
   "cell_type": "code",
   "execution_count": null,
   "id": "bf08faf2-145d-4a5f-9813-6c84938ec00b",
   "metadata": {},
   "outputs": [],
   "source": [
    "test(1,2,4,5)"
   ]
  },
  {
   "cell_type": "code",
   "execution_count": null,
   "id": "eb98e7ae-a1ab-439f-bbb7-d088286e18ea",
   "metadata": {},
   "outputs": [],
   "source": [
    "# example of kwargs\n",
    "\n",
    "def test1(**kwargs):\n",
    "    return kwargs    "
   ]
  },
  {
   "cell_type": "code",
   "execution_count": 3,
   "id": "b3e98dde-616a-4242-b362-b8fc7eac0014",
   "metadata": {},
   "outputs": [
    {
     "ename": "NameError",
     "evalue": "name 'test1' is not defined",
     "output_type": "error",
     "traceback": [
      "\u001b[0;31m---------------------------------------------------------------------------\u001b[0m",
      "\u001b[0;31mNameError\u001b[0m                                 Traceback (most recent call last)",
      "Cell \u001b[0;32mIn[3], line 1\u001b[0m\n\u001b[0;32m----> 1\u001b[0m \u001b[43mtest1\u001b[49m(name\u001b[38;5;241m=\u001b[39m\u001b[38;5;124m'\u001b[39m\u001b[38;5;124mabc\u001b[39m\u001b[38;5;124m'\u001b[39m,email\u001b[38;5;241m=\u001b[39m\u001b[38;5;124m'\u001b[39m\u001b[38;5;124mabc@gmail.com\u001b[39m\u001b[38;5;124m'\u001b[39m,mobile\u001b[38;5;241m=\u001b[39m\u001b[38;5;241m123456789\u001b[39m)\n",
      "\u001b[0;31mNameError\u001b[0m: name 'test1' is not defined"
     ]
    }
   ],
   "source": [
    "test1(name='abc',email='abc@gmail.com',mobile=123456789)"
   ]
  },
  {
   "cell_type": "code",
   "execution_count": null,
   "id": "16e63090-9d65-4e2d-b2f2-a51b3991804c",
   "metadata": {},
   "outputs": [],
   "source": [
    "Q3. what is an iterator in python? Nmae the method used to initialise the iterator object and the\n",
    "    method used for iteration. Use these methods to print the first five elements of the given list[2,4,6,8,\n",
    "    10,12,14,16,18,20].                                                                                                \n",
    "\n",
    "iterator is an object which contain a countable number of values.\n",
    "method: iter() and next()"
   ]
  },
  {
   "cell_type": "code",
   "execution_count": null,
   "id": "75c542e8-46aa-4965-929e-d7aa81538fb4",
   "metadata": {},
   "outputs": [],
   "source": [
    "l=[2,4,6,8,10,12,14,16,18,20]"
   ]
  },
  {
   "cell_type": "code",
   "execution_count": null,
   "id": "08fc0223-4e6c-4048-b718-24105839fe13",
   "metadata": {},
   "outputs": [],
   "source": [
    "l1=iter(l)\n",
    "for i in range(10):\n",
    "    if i<=4:\n",
    "        print(next(l1))"
   ]
  },
  {
   "cell_type": "code",
   "execution_count": null,
   "id": "08971054-9878-464e-8570-2da7049d5234",
   "metadata": {},
   "outputs": [],
   "source": [
    "Q4. what is a generator function in python? why yield  keyword is used? give an \n",
    "    example of a generator function.\n",
    "\n",
    "generator is a function that returns an iterator that produces a sequence of values when iterated over.\n",
    "\n",
    "yield keyword returns a generator object to the one who calls the function which contains yield, \n",
    "\n",
    "instead of returning a value.\n"
   ]
  },
  {
   "cell_type": "code",
   "execution_count": null,
   "id": "8bf971cc-64e5-4395-8dde-863368b52ffb",
   "metadata": {},
   "outputs": [],
   "source": [
    "def test1(n):\n",
    "    a,b=1,2\n",
    "    for i in range(n):\n",
    "        yield a\n",
    "        a,b=b,a+b           "
   ]
  },
  {
   "cell_type": "code",
   "execution_count": null,
   "id": "295e7509-4dbe-483c-80ea-29927c0255f9",
   "metadata": {},
   "outputs": [],
   "source": [
    "for i in test1(10):\n",
    "    print(i)    "
   ]
  },
  {
   "cell_type": "code",
   "execution_count": null,
   "id": "be1a2b30-b0fd-4ca4-9d9b-2cee88c20484",
   "metadata": {},
   "outputs": [],
   "source": [
    "Q5. create a generator function for prime numbers less than 1000. \n",
    "    use the next() method to print the \n",
    "    first 20 prime numbers."
   ]
  },
  {
   "cell_type": "code",
   "execution_count": 17,
   "id": "07de8090-aba0-41ba-9122-bc6ae5e91505",
   "metadata": {},
   "outputs": [],
   "source": [
    "def prime_number():\n",
    "    for num in range(2,1000):\n",
    "        is_prime = True\n",
    "        for i in range(2, int(num**0.5)+1):\n",
    "            if num % i == 0:\n",
    "                is_prime = False\n",
    "                break\n",
    "            if is_prime:\n",
    "                yield num"
   ]
  },
  {
   "cell_type": "code",
   "execution_count": 18,
   "id": "adfd089f-0d87-4198-96b3-7d78a5b8878b",
   "metadata": {},
   "outputs": [],
   "source": [
    "pn = prime_number"
   ]
  },
  {
   "cell_type": "code",
   "execution_count": 20,
   "id": "776bffb6-2ec6-4bcb-ae37-5f55d528f3ac",
   "metadata": {},
   "outputs": [
    {
     "ename": "TypeError",
     "evalue": "'function' object is not an iterator",
     "output_type": "error",
     "traceback": [
      "\u001b[0;31m---------------------------------------------------------------------------\u001b[0m",
      "\u001b[0;31mTypeError\u001b[0m                                 Traceback (most recent call last)",
      "Cell \u001b[0;32mIn[20], line 2\u001b[0m\n\u001b[1;32m      1\u001b[0m \u001b[38;5;28;01mfor\u001b[39;00m i \u001b[38;5;129;01min\u001b[39;00m \u001b[38;5;28mrange\u001b[39m(\u001b[38;5;241m20\u001b[39m):\n\u001b[0;32m----> 2\u001b[0m     \u001b[38;5;28mprint\u001b[39m(\u001b[38;5;28;43mnext\u001b[39;49m\u001b[43m(\u001b[49m\u001b[43ma\u001b[49m\u001b[43m)\u001b[49m)\n",
      "\u001b[0;31mTypeError\u001b[0m: 'function' object is not an iterator"
     ]
    }
   ],
   "source": [
    "for i in range(20):\n",
    "    print(next(a))"
   ]
  },
  {
   "cell_type": "code",
   "execution_count": null,
   "id": "de42d248-dab6-4acb-8dc0-ae94563901fa",
   "metadata": {},
   "outputs": [],
   "source": [
    "Q6. write a python program to print the first 10 Fibonacci numbers using a while \n",
    "    loop."
   ]
  },
  {
   "cell_type": "code",
   "execution_count": 9,
   "id": "2c918138-9fe2-47ab-918c-dbf251018c6d",
   "metadata": {},
   "outputs": [],
   "source": [
    "def test_fib(n):\n",
    "    a,b=0,1\n",
    "    while True:\n",
    "        yield a\n",
    "        a,b=b,a+b\n",
    "    "
   ]
  },
  {
   "cell_type": "code",
   "execution_count": 10,
   "id": "6b206318-17ab-43e1-8412-90025c590415",
   "metadata": {},
   "outputs": [],
   "source": [
    "fib=test_fib(10)"
   ]
  },
  {
   "cell_type": "code",
   "execution_count": 11,
   "id": "49b902c5-377c-410a-bbb6-c7a4692c91b7",
   "metadata": {},
   "outputs": [
    {
     "name": "stdout",
     "output_type": "stream",
     "text": [
      "0\n",
      "1\n",
      "1\n",
      "2\n",
      "3\n",
      "5\n",
      "8\n",
      "13\n",
      "21\n",
      "34\n"
     ]
    }
   ],
   "source": [
    "for i in range(10):\n",
    "    print(next(fib))"
   ]
  },
  {
   "cell_type": "code",
   "execution_count": null,
   "id": "2b434154-ba6d-4402-b2f6-bba7a6a5bcf1",
   "metadata": {},
   "outputs": [],
   "source": [
    "Q7. write a list comprehension to iterate through the given string:'pwskills'\n",
    "   Expected output:['p','w','s','k','i','l','l','s']"
   ]
  },
  {
   "cell_type": "code",
   "execution_count": 12,
   "id": "3d2b9ee6-5825-4c70-8f43-3ceb2fc38cfd",
   "metadata": {},
   "outputs": [],
   "source": [
    "s='pwskills'"
   ]
  },
  {
   "cell_type": "code",
   "execution_count": 13,
   "id": "ecae573e-7ece-4b17-8ad0-10031126362e",
   "metadata": {},
   "outputs": [
    {
     "data": {
      "text/plain": [
       "['p', 'w', 's', 'k', 'i', 'l', 'l', 's']"
      ]
     },
     "execution_count": 13,
     "metadata": {},
     "output_type": "execute_result"
    }
   ],
   "source": [
    "[i.lower() for i in s]"
   ]
  },
  {
   "cell_type": "code",
   "execution_count": null,
   "id": "ff93a00c-7e54-4775-8e1f-61e50892544c",
   "metadata": {},
   "outputs": [],
   "source": [
    "8.write a python program to check whether a given number is palindrome or not\n",
    "using a while loop."
   ]
  },
  {
   "cell_type": "code",
   "execution_count": 14,
   "id": "b1eff45c-4a0e-4fc3-9784-3ba3c1174c00",
   "metadata": {},
   "outputs": [
    {
     "name": "stdin",
     "output_type": "stream",
     "text": [
      "enter your number 232\n"
     ]
    },
    {
     "name": "stdout",
     "output_type": "stream",
     "text": [
      "The number is a palindrome\n"
     ]
    }
   ],
   "source": [
    "n=int(input('enter your number'))\n",
    "a=n\n",
    "b=0\n",
    "while(n>0):\n",
    "    c=n%10\n",
    "    b=b*10+c\n",
    "    n=n//10\n",
    "if(a==b):\n",
    "    print(\"The number is a palindrome\")\n",
    "else:\n",
    "    print(\"The number is not a palindrome\")"
   ]
  },
  {
   "cell_type": "code",
   "execution_count": null,
   "id": "94c5214f-6266-4053-bb39-f59b138f3879",
   "metadata": {},
   "outputs": [],
   "source": [
    "Q9. create a code to print odd number from 1 to 100 using list comprehension."
   ]
  },
  {
   "cell_type": "code",
   "execution_count": 15,
   "id": "30a8f7c2-bc12-4629-a83f-9c36a3d89c48",
   "metadata": {},
   "outputs": [],
   "source": [
    "l=list(range(1,100))"
   ]
  },
  {
   "cell_type": "code",
   "execution_count": 16,
   "id": "d6927ee8-6e31-42c3-b39a-42cf62ef7465",
   "metadata": {},
   "outputs": [
    {
     "data": {
      "text/plain": [
       "[1,\n",
       " 3,\n",
       " 5,\n",
       " 7,\n",
       " 9,\n",
       " 11,\n",
       " 13,\n",
       " 15,\n",
       " 17,\n",
       " 19,\n",
       " 21,\n",
       " 23,\n",
       " 25,\n",
       " 27,\n",
       " 29,\n",
       " 31,\n",
       " 33,\n",
       " 35,\n",
       " 37,\n",
       " 39,\n",
       " 41,\n",
       " 43,\n",
       " 45,\n",
       " 47,\n",
       " 49,\n",
       " 51,\n",
       " 53,\n",
       " 55,\n",
       " 57,\n",
       " 59,\n",
       " 61,\n",
       " 63,\n",
       " 65,\n",
       " 67,\n",
       " 69,\n",
       " 71,\n",
       " 73,\n",
       " 75,\n",
       " 77,\n",
       " 79,\n",
       " 81,\n",
       " 83,\n",
       " 85,\n",
       " 87,\n",
       " 89,\n",
       " 91,\n",
       " 93,\n",
       " 95,\n",
       " 97,\n",
       " 99]"
      ]
     },
     "execution_count": 16,
     "metadata": {},
     "output_type": "execute_result"
    }
   ],
   "source": [
    "[i for i in l if i%2==1]"
   ]
  },
  {
   "cell_type": "code",
   "execution_count": null,
   "id": "c7ec3618-d9f1-43ae-b058-057953ba82b3",
   "metadata": {},
   "outputs": [],
   "source": []
  }
 ],
 "metadata": {
  "kernelspec": {
   "display_name": "Python 3 (ipykernel)",
   "language": "python",
   "name": "python3"
  },
  "language_info": {
   "codemirror_mode": {
    "name": "ipython",
    "version": 3
   },
   "file_extension": ".py",
   "mimetype": "text/x-python",
   "name": "python",
   "nbconvert_exporter": "python",
   "pygments_lexer": "ipython3",
   "version": "3.10.8"
  }
 },
 "nbformat": 4,
 "nbformat_minor": 5
}
